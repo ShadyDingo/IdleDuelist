{
  "cells": [
    {
      "cell_type": "markdown",
      "metadata": {},
      "source": [
        "# 🎮 Idle Duelist - Mobile APK Builder\n",
        "\n",
        "This notebook will build your Idle Duelist game into an Android APK file.\n",
        "\n",
        "## Prerequisites:\n",
        "1. Upload your `IdleDuelist_Export.zip` to Google Drive\n",
        "2. Make sure the zip file contains all your game files\n",
        "\n",
        "## Steps:\n",
        "1. Run the cells below in order\n",
        "2. Download the generated APK\n",
        "3. Install on your Android device\n",
        "\n",
        "---\n"
      ]
    },
    {
      "cell_type": "code",
      "execution_count": null,
      "metadata": {},
      "outputs": [],
      "source": [
        "# Mount Google Drive\n",
        "from google.colab import drive\n",
        "drive.mount('/content/drive')\n",
        "print(\"✅ Google Drive mounted!\")\n"
      ]
    },
    {
      "cell_type": "code",
      "execution_count": null,
      "metadata": {},
      "outputs": [],
      "source": [
        "import zipfile\n",
        "import os\n",
        "\n",
        "# Navigate to drive and extract your game\n",
        "%cd /content/drive/MyDrive\n",
        "\n",
        "# Extract the zip file (replace with your actual filename)\n",
        "zip_filename = 'IdleDuelist_Export.zip'  # Change this to your zip filename\n",
        "\n",
        "if os.path.exists(zip_filename):\n",
        "    with zipfile.ZipFile(zip_filename, 'r') as zip_ref:\n",
        "        zip_ref.extractall('IdleDuelist')\n",
        "    print(f\"✅ Extracted {zip_filename} to IdleDuelist folder\")\n",
        "else:\n",
        "    print(f\"❌ {zip_filename} not found in Google Drive\")\n",
        "    print(\"Please upload your IdleDuelist_Export.zip file to Google Drive first\")\n"
      ]
    },
    {
      "cell_type": "code",
      "execution_count": null,
      "metadata": {},
      "outputs": [],
      "source": [
        "# Install buildozer and dependencies\n",
        "!pip install buildozer\n",
        "print(\"✅ Buildozer installed!\")\n"
      ]
    },
    {
      "cell_type": "code",
      "execution_count": null,
      "metadata": {},
      "outputs": [],
      "source": [
        "# Navigate to your project directory\n",
        "%cd /content/drive/MyDrive/IdleDuelist\n",
        "\n",
        "# List files to verify everything is there\n",
        "!ls -la\n",
        "print(\"✅ In project directory\")\n"
      ]
    },
    {
      "cell_type": "code",
      "execution_count": null,
      "metadata": {},
      "outputs": [],
      "source": [
        "# Build the APK (this may take 10-20 minutes)\n",
        "print(\"🚀 Starting APK build... This will take 10-20 minutes\")\n",
        "print(\"⏳ Please be patient...\")\n",
        "\n",
        "!buildozer android debug\n",
        "\n",
        "print(\"✅ APK build completed!\")\n"
      ]
    },
    {
      "cell_type": "code",
      "execution_count": null,
      "metadata": {},
      "outputs": [],
      "source": [
        "# Check if APK was created successfully\n",
        "import os\n",
        "\n",
        "apk_path = 'bin/app-debug.apk'\n",
        "if os.path.exists(apk_path):\n",
        "    file_size = os.path.getsize(apk_path) / (1024 * 1024)  # Size in MB\n",
        "    print(f\"🎉 SUCCESS! APK created: {apk_path}\")\n",
        "    print(f\"📱 File size: {file_size:.1f} MB\")\n",
        "    print(f\"\\n📥 To download:\")\n",
        "    print(f\"1. Go to Files tab on the left\")\n",
        "    print(f\"2. Navigate to /content/drive/MyDrive/IdleDuelist/bin/\")\n",
        "    print(f\"3. Right-click on 'app-debug.apk' and select 'Download'\")\n",
        "    print(f\"\\n📲 To install on your phone:\")\n",
        "    print(f\"1. Transfer the APK to your Android device\")\n",
        "    print(f\"2. Enable 'Install from unknown sources' in settings\")\n",
        "    print(f\"3. Tap the APK file to install\")\n",
        "    print(f\"4. Enjoy your game! 🎮\")\n",
        "else:\n",
        "    print(\"❌ APK not found. Check the build logs above for errors.\")\n",
        "    print(\"\\nCommon issues:\")\n",
        "    print(\"- Missing dependencies\")\n",
        "    print(\"- Buildozer configuration errors\")\n",
        "    print(\"- Insufficient disk space\")\n"
      ]
    },
    {
      "cell_type": "markdown",
      "metadata": {},
      "source": [
        "## 🔧 Troubleshooting\n",
        "\n",
        "If the build fails, here are common solutions:\n",
        "\n",
        "### Buildozer Issues:\n",
        "- Make sure all files are properly uploaded\n",
        "- Check that `buildozer.spec` is configured correctly\n",
        "- Ensure all asset files are included\n",
        "\n",
        "### Missing Dependencies:\n",
        "- The build process will automatically download Android SDK/NDK\n",
        "- This requires internet connection and may take time\n",
        "\n",
        "### File Permissions:\n",
        "- Make sure your Google Drive files are accessible\n",
        "- Try re-uploading the zip file if needed\n",
        "\n",
        "### Storage Issues:\n",
        "- Colab has limited storage, but should be enough for this build\n",
        "- If you get storage errors, try cleaning up unnecessary files\n",
        "\n",
        "---\n",
        "\n",
        "## 🎮 Your Game Features:\n",
        "\n",
        "✅ **Combat System:** Turn-based with critical hits, dodging, armor penetration\n",
        "✅ **Equipment System:** Weapons and armor with strategic trade-offs\n",
        "✅ **UI/UX:** Mobile-optimized portrait layout\n",
        "✅ **Audio:** Background music with volume controls\n",
        "✅ **Progression:** ELO-based ranking and leaderboard\n",
        "✅ **Assets:** All images, sounds, and backgrounds included\n",
        "\n",
        "**Enjoy your mobile game!** 📱🎯\n"
      ]
    }
  ],
  "metadata": {
    "language_info": {
      "name": "python"
    }
  },
  "nbformat": 4,
  "nbformat_minor": 2
}
